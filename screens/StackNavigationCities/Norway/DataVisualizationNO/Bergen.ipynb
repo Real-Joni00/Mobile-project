{
 "cells": [
  {
   "cell_type": "code",
   "execution_count": 1,
   "metadata": {},
   "outputs": [],
   "source": [
    "import pandas as pd\n",
    "import matplotlib.pyplot as plt"
   ]
  },
  {
   "cell_type": "code",
   "execution_count": 2,
   "metadata": {},
   "outputs": [],
   "source": [
    "#Read file\n",
    "\n",
    "df_bergenyearsstudied = pd.read_csv('./DatafilesNO/bergen_yearsstudied.csv', encoding='latin-1')\n",
    "\n",
    "for col in df_bergenyearsstudied:\n",
    "    df_bergenyearsstudied[col] = df_bergenyearsstudied[col].replace('\"', '', regex=True)"
   ]
  },
  {
   "cell_type": "code",
   "execution_count": 3,
   "metadata": {},
   "outputs": [
    {
     "data": {
      "text/html": [
       "<div>\n",
       "<style scoped>\n",
       "    .dataframe tbody tr th:only-of-type {\n",
       "        vertical-align: middle;\n",
       "    }\n",
       "\n",
       "    .dataframe tbody tr th {\n",
       "        vertical-align: top;\n",
       "    }\n",
       "\n",
       "    .dataframe thead th {\n",
       "        text-align: right;\n",
       "    }\n",
       "</style>\n",
       "<table border=\"1\" class=\"dataframe\">\n",
       "  <thead>\n",
       "    <tr style=\"text-align: right;\">\n",
       "      <th></th>\n",
       "      <th>Alue</th>\n",
       "      <th>Koulutusvuosia</th>\n",
       "      <th>2018</th>\n",
       "      <th>2019</th>\n",
       "      <th>2020</th>\n",
       "      <th>2021</th>\n",
       "      <th>2022</th>\n",
       "    </tr>\n",
       "  </thead>\n",
       "  <tbody>\n",
       "    <tr>\n",
       "      <th>0</th>\n",
       "      <td>Bergen</td>\n",
       "      <td>13-</td>\n",
       "      <td>78705</td>\n",
       "      <td>79529</td>\n",
       "      <td>81824</td>\n",
       "      <td>83464</td>\n",
       "      <td>85759</td>\n",
       "    </tr>\n",
       "  </tbody>\n",
       "</table>\n",
       "</div>"
      ],
      "text/plain": [
       "     Alue Koulutusvuosia   2018   2019   2020   2021   2022\n",
       "0  Bergen            13-  78705  79529  81824  83464  85759"
      ]
     },
     "execution_count": 3,
     "metadata": {},
     "output_type": "execute_result"
    }
   ],
   "source": [
    "df_bergenyearsstudied.head()"
   ]
  },
  {
   "cell_type": "code",
   "execution_count": 4,
   "metadata": {},
   "outputs": [
    {
     "name": "stdout",
     "output_type": "stream",
     "text": [
      "Alue              Bergen\n",
      "Koulutusvuosia       13-\n",
      "2018               78705\n",
      "2019               79529\n",
      "2020               81824\n",
      "2021               83464\n",
      "2022               85759\n",
      "Name: 0, dtype: object\n"
     ]
    },
    {
     "name": "stderr",
     "output_type": "stream",
     "text": [
      "C:\\Users\\helia\\AppData\\Local\\Temp\\ipykernel_5548\\3450265054.py:3: SettingWithCopyWarning: \n",
      "A value is trying to be set on a copy of a slice from a DataFrame\n",
      "\n",
      "See the caveats in the documentation: https://pandas.pydata.org/pandas-docs/stable/user_guide/indexing.html#returning-a-view-versus-a-copy\n",
      "  row['2018']=row['2018'].astype(float)\n",
      "C:\\Users\\helia\\AppData\\Local\\Temp\\ipykernel_5548\\3450265054.py:4: SettingWithCopyWarning: \n",
      "A value is trying to be set on a copy of a slice from a DataFrame\n",
      "\n",
      "See the caveats in the documentation: https://pandas.pydata.org/pandas-docs/stable/user_guide/indexing.html#returning-a-view-versus-a-copy\n",
      "  row['2019']=row['2019'].astype(float)\n",
      "C:\\Users\\helia\\AppData\\Local\\Temp\\ipykernel_5548\\3450265054.py:5: SettingWithCopyWarning: \n",
      "A value is trying to be set on a copy of a slice from a DataFrame\n",
      "\n",
      "See the caveats in the documentation: https://pandas.pydata.org/pandas-docs/stable/user_guide/indexing.html#returning-a-view-versus-a-copy\n",
      "  row['2020']=row['2020'].astype(float)\n",
      "C:\\Users\\helia\\AppData\\Local\\Temp\\ipykernel_5548\\3450265054.py:6: SettingWithCopyWarning: \n",
      "A value is trying to be set on a copy of a slice from a DataFrame\n",
      "\n",
      "See the caveats in the documentation: https://pandas.pydata.org/pandas-docs/stable/user_guide/indexing.html#returning-a-view-versus-a-copy\n",
      "  row['2021']=row['2021'].astype(float)\n",
      "C:\\Users\\helia\\AppData\\Local\\Temp\\ipykernel_5548\\3450265054.py:7: SettingWithCopyWarning: \n",
      "A value is trying to be set on a copy of a slice from a DataFrame\n",
      "\n",
      "See the caveats in the documentation: https://pandas.pydata.org/pandas-docs/stable/user_guide/indexing.html#returning-a-view-versus-a-copy\n",
      "  row['2022']=row['2022'].astype(float)\n"
     ]
    }
   ],
   "source": [
    "print(df_bergenyearsstudied.iloc[0])\n",
    "row = df_bergenyearsstudied.iloc[0]\n",
    "row['2018']=row['2018'].astype(float)\n",
    "row['2019']=row['2019'].astype(float)\n",
    "row['2020']=row['2020'].astype(float)\n",
    "row['2021']=row['2021'].astype(float)\n",
    "row['2022']=row['2022'].astype(float)"
   ]
  },
  {
   "cell_type": "code",
   "execution_count": 6,
   "metadata": {},
   "outputs": [
    {
     "data": {
      "image/png": "[encoded data removed]",
      "text/plain": [
       "<Figure size 640x480 with 1 Axes>"
      ]
     },
     "metadata": {},
     "output_type": "display_data"
    }
   ],
   "source": [
    "row[['2018', '2019', '2020', '2021', '2022']].plot(color = 'darkviolet')\n",
    "plt.savefig('../images/bergenyearsstudied.jpg')"
   ]
  }
 ],
 "metadata": {
  "kernelspec": {
   "display_name": "Python 3",
   "language": "python",
   "name": "python3"
  },
  "language_info": {
   "codemirror_mode": {
    "name": "ipython",
    "version": 3
   },
   "file_extension": ".py",
   "mimetype": "text/x-python",
   "name": "python",
   "nbconvert_exporter": "python",
   "pygments_lexer": "ipython3",
   "version": "3.11.0"
  }
 },
 "nbformat": 4,
 "nbformat_minor": 2
}
