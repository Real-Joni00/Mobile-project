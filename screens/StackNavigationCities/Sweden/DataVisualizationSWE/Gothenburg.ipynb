{
 "cells": [
  {
   "cell_type": "code",
   "execution_count": 1,
   "metadata": {},
   "outputs": [],
   "source": [
    "import pandas as pd\n",
    "import matplotlib.pyplot as plt"
   ]
  },
  {
   "cell_type": "code",
   "execution_count": 2,
   "metadata": {},
   "outputs": [],
   "source": [
    "#Read file\n",
    "\n",
    "df_gothenburgyearsstudied = pd.read_csv('./DatafilesSWE/gothenburg_yearsstudied.csv', encoding='latin-1')\n",
    "\n",
    "for col in df_gothenburgyearsstudied:\n",
    "    df_gothenburgyearsstudied[col] = df_gothenburgyearsstudied[col].replace('\"', '', regex=True)"
   ]
  },
  {
   "cell_type": "code",
   "execution_count": 3,
   "metadata": {},
   "outputs": [
    {
     "data": {
      "text/html": [
       "<div>\n",
       "<style scoped>\n",
       "    .dataframe tbody tr th:only-of-type {\n",
       "        vertical-align: middle;\n",
       "    }\n",
       "\n",
       "    .dataframe tbody tr th {\n",
       "        vertical-align: top;\n",
       "    }\n",
       "\n",
       "    .dataframe thead th {\n",
       "        text-align: right;\n",
       "    }\n",
       "</style>\n",
       "<table border=\"1\" class=\"dataframe\">\n",
       "  <thead>\n",
       "    <tr style=\"text-align: right;\">\n",
       "      <th></th>\n",
       "      <th>Alue</th>\n",
       "      <th>Koulutusvuosia</th>\n",
       "      <th>2018</th>\n",
       "      <th>2019</th>\n",
       "      <th>2020</th>\n",
       "      <th>2021</th>\n",
       "      <th>2022</th>\n",
       "    </tr>\n",
       "  </thead>\n",
       "  <tbody>\n",
       "    <tr>\n",
       "      <th>0</th>\n",
       "      <td>Göteborg</td>\n",
       "      <td>13-</td>\n",
       "      <td>165376</td>\n",
       "      <td>170693</td>\n",
       "      <td>175115</td>\n",
       "      <td>178419</td>\n",
       "      <td>180364</td>\n",
       "    </tr>\n",
       "  </tbody>\n",
       "</table>\n",
       "</div>"
      ],
      "text/plain": [
       "       Alue Koulutusvuosia    2018    2019    2020    2021    2022\n",
       "0  Göteborg            13-  165376  170693  175115  178419  180364"
      ]
     },
     "execution_count": 3,
     "metadata": {},
     "output_type": "execute_result"
    }
   ],
   "source": [
    "df_gothenburgyearsstudied.head()"
   ]
  },
  {
   "cell_type": "code",
   "execution_count": 4,
   "metadata": {},
   "outputs": [
    {
     "name": "stdout",
     "output_type": "stream",
     "text": [
      "Alue              Göteborg\n",
      "Koulutusvuosia         13-\n",
      "2018                165376\n",
      "2019                170693\n",
      "2020                175115\n",
      "2021                178419\n",
      "2022                180364\n",
      "Name: 0, dtype: object\n"
     ]
    },
    {
     "name": "stderr",
     "output_type": "stream",
     "text": [
      "C:\\Users\\helia\\AppData\\Local\\Temp\\ipykernel_14012\\2525031055.py:3: SettingWithCopyWarning: \n",
      "A value is trying to be set on a copy of a slice from a DataFrame\n",
      "\n",
      "See the caveats in the documentation: https://pandas.pydata.org/pandas-docs/stable/user_guide/indexing.html#returning-a-view-versus-a-copy\n",
      "  row['2018']=row['2018'].astype(float)\n",
      "C:\\Users\\helia\\AppData\\Local\\Temp\\ipykernel_14012\\2525031055.py:4: SettingWithCopyWarning: \n",
      "A value is trying to be set on a copy of a slice from a DataFrame\n",
      "\n",
      "See the caveats in the documentation: https://pandas.pydata.org/pandas-docs/stable/user_guide/indexing.html#returning-a-view-versus-a-copy\n",
      "  row['2019']=row['2019'].astype(float)\n",
      "C:\\Users\\helia\\AppData\\Local\\Temp\\ipykernel_14012\\2525031055.py:5: SettingWithCopyWarning: \n",
      "A value is trying to be set on a copy of a slice from a DataFrame\n",
      "\n",
      "See the caveats in the documentation: https://pandas.pydata.org/pandas-docs/stable/user_guide/indexing.html#returning-a-view-versus-a-copy\n",
      "  row['2020']=row['2020'].astype(float)\n",
      "C:\\Users\\helia\\AppData\\Local\\Temp\\ipykernel_14012\\2525031055.py:6: SettingWithCopyWarning: \n",
      "A value is trying to be set on a copy of a slice from a DataFrame\n",
      "\n",
      "See the caveats in the documentation: https://pandas.pydata.org/pandas-docs/stable/user_guide/indexing.html#returning-a-view-versus-a-copy\n",
      "  row['2021']=row['2021'].astype(float)\n",
      "C:\\Users\\helia\\AppData\\Local\\Temp\\ipykernel_14012\\2525031055.py:7: SettingWithCopyWarning: \n",
      "A value is trying to be set on a copy of a slice from a DataFrame\n",
      "\n",
      "See the caveats in the documentation: https://pandas.pydata.org/pandas-docs/stable/user_guide/indexing.html#returning-a-view-versus-a-copy\n",
      "  row['2022']=row['2022'].astype(float)\n"
     ]
    }
   ],
   "source": [
    "print(df_gothenburgyearsstudied.iloc[0])\n",
    "row = df_gothenburgyearsstudied.iloc[0]\n",
    "row['2018']=row['2018'].astype(float)\n",
    "row['2019']=row['2019'].astype(float)\n",
    "row['2020']=row['2020'].astype(float)\n",
    "row['2021']=row['2021'].astype(float)\n",
    "row['2022']=row['2022'].astype(float)"
   ]
  },
  {
   "cell_type": "code",
   "execution_count": 6,
   "metadata": {},
   "outputs": [
    {
     "data": {
      "image/png": "[encoded data removed]",
      "text/plain": [
       "<Figure size 640x480 with 1 Axes>"
      ]
     },
     "metadata": {},
     "output_type": "display_data"
    }
   ],
   "source": [
    "row[['2018', '2019', '2020', '2021', '2022']].plot(color = 'darkviolet')\n",
    "plt.savefig('../images/gothenburgyearsstudied.jpg')"
   ]
  },
  {
   "cell_type": "code",
   "execution_count": 2,
   "metadata": {},
   "outputs": [],
   "source": [
    "#Read file\n",
    "\n",
    "df_gothenburgworkingagepopulation = pd.read_csv('./DatafilesSWE/gothenburg_workingagepopulation.csv', encoding='latin-1')\n",
    "\n",
    "for col in df_gothenburgworkingagepopulation:\n",
    "    df_gothenburgworkingagepopulation[col] = df_gothenburgworkingagepopulation[col].replace('\"', '', regex=True)"
   ]
  },
  {
   "cell_type": "code",
   "execution_count": 3,
   "metadata": {},
   "outputs": [
    {
     "data": {
      "text/html": [
       "<div>\n",
       "<style scoped>\n",
       "    .dataframe tbody tr th:only-of-type {\n",
       "        vertical-align: middle;\n",
       "    }\n",
       "\n",
       "    .dataframe tbody tr th {\n",
       "        vertical-align: top;\n",
       "    }\n",
       "\n",
       "    .dataframe thead th {\n",
       "        text-align: right;\n",
       "    }\n",
       "</style>\n",
       "<table border=\"1\" class=\"dataframe\">\n",
       "  <thead>\n",
       "    <tr style=\"text-align: right;\">\n",
       "      <th></th>\n",
       "      <th>Alue</th>\n",
       "      <th>Ikä</th>\n",
       "      <th>Yhteensä 2018</th>\n",
       "      <th>Yhteensä 2019</th>\n",
       "      <th>Yhteensä 2020</th>\n",
       "      <th>Yhteensä 2021</th>\n",
       "      <th>Yhteensä 2022</th>\n",
       "    </tr>\n",
       "  </thead>\n",
       "  <tbody>\n",
       "    <tr>\n",
       "      <th>0</th>\n",
       "      <td>Göteborg</td>\n",
       "      <td>Työikäiset yhteensä</td>\n",
       "      <td>376833</td>\n",
       "      <td>381159</td>\n",
       "      <td>388203</td>\n",
       "      <td>391052</td>\n",
       "      <td>398661</td>\n",
       "    </tr>\n",
       "  </tbody>\n",
       "</table>\n",
       "</div>"
      ],
      "text/plain": [
       "       Alue                  Ikä  Yhteensä 2018  Yhteensä 2019  Yhteensä 2020  \\\n",
       "0  Göteborg  Työikäiset yhteensä         376833         381159         388203   \n",
       "\n",
       "   Yhteensä 2021  Yhteensä 2022  \n",
       "0         391052         398661  "
      ]
     },
     "execution_count": 3,
     "metadata": {},
     "output_type": "execute_result"
    }
   ],
   "source": [
    "df_gothenburgworkingagepopulation.head()"
   ]
  },
  {
   "cell_type": "code",
   "execution_count": 4,
   "metadata": {},
   "outputs": [
    {
     "name": "stdout",
     "output_type": "stream",
     "text": [
      "Alue                        Göteborg\n",
      "Ikä              Työikäiset yhteensä\n",
      "Yhteensä 2018                 376833\n",
      "Yhteensä 2019                 381159\n",
      "Yhteensä 2020                 388203\n",
      "Yhteensä 2021                 391052\n",
      "Yhteensä 2022                 398661\n",
      "Name: 0, dtype: object\n"
     ]
    },
    {
     "name": "stderr",
     "output_type": "stream",
     "text": [
      "C:\\Users\\helia\\AppData\\Local\\Temp\\ipykernel_740\\924954449.py:3: SettingWithCopyWarning: \n",
      "A value is trying to be set on a copy of a slice from a DataFrame\n",
      "\n",
      "See the caveats in the documentation: https://pandas.pydata.org/pandas-docs/stable/user_guide/indexing.html#returning-a-view-versus-a-copy\n",
      "  row['Yhteensä 2018']=row['Yhteensä 2018'].astype(float)\n",
      "C:\\Users\\helia\\AppData\\Local\\Temp\\ipykernel_740\\924954449.py:4: SettingWithCopyWarning: \n",
      "A value is trying to be set on a copy of a slice from a DataFrame\n",
      "\n",
      "See the caveats in the documentation: https://pandas.pydata.org/pandas-docs/stable/user_guide/indexing.html#returning-a-view-versus-a-copy\n",
      "  row['Yhteensä 2019']=row['Yhteensä 2019'].astype(float)\n",
      "C:\\Users\\helia\\AppData\\Local\\Temp\\ipykernel_740\\924954449.py:5: SettingWithCopyWarning: \n",
      "A value is trying to be set on a copy of a slice from a DataFrame\n",
      "\n",
      "See the caveats in the documentation: https://pandas.pydata.org/pandas-docs/stable/user_guide/indexing.html#returning-a-view-versus-a-copy\n",
      "  row['Yhteensä 2020']=row['Yhteensä 2020'].astype(float)\n",
      "C:\\Users\\helia\\AppData\\Local\\Temp\\ipykernel_740\\924954449.py:6: SettingWithCopyWarning: \n",
      "A value is trying to be set on a copy of a slice from a DataFrame\n",
      "\n",
      "See the caveats in the documentation: https://pandas.pydata.org/pandas-docs/stable/user_guide/indexing.html#returning-a-view-versus-a-copy\n",
      "  row['Yhteensä 2021']=row['Yhteensä 2021'].astype(float)\n",
      "C:\\Users\\helia\\AppData\\Local\\Temp\\ipykernel_740\\924954449.py:7: SettingWithCopyWarning: \n",
      "A value is trying to be set on a copy of a slice from a DataFrame\n",
      "\n",
      "See the caveats in the documentation: https://pandas.pydata.org/pandas-docs/stable/user_guide/indexing.html#returning-a-view-versus-a-copy\n",
      "  row['Yhteensä 2022']=row['Yhteensä 2022'].astype(float)\n"
     ]
    }
   ],
   "source": [
    "print(df_gothenburgworkingagepopulation.iloc[0])\n",
    "row = df_gothenburgworkingagepopulation.iloc[0]\n",
    "row['Yhteensä 2018']=row['Yhteensä 2018'].astype(float)\n",
    "row['Yhteensä 2019']=row['Yhteensä 2019'].astype(float)\n",
    "row['Yhteensä 2020']=row['Yhteensä 2020'].astype(float)\n",
    "row['Yhteensä 2021']=row['Yhteensä 2021'].astype(float)\n",
    "row['Yhteensä 2022']=row['Yhteensä 2022'].astype(float)"
   ]
  },
  {
   "cell_type": "code",
   "execution_count": 8,
   "metadata": {},
   "outputs": [
    {
     "data": {
      "image/png": "[encoded data removed]",
      "text/plain": [
       "<Figure size 640x480 with 1 Axes>"
      ]
     },
     "metadata": {},
     "output_type": "display_data"
    }
   ],
   "source": [
    "row[['Yhteensä 2018', 'Yhteensä 2019', 'Yhteensä 2020', 'Yhteensä 2021', 'Yhteensä 2022']].plot.barh(color = 'darkviolet')\n",
    "plt.xlim(370000, 400000)\n",
    "plt.savefig('../images/gothenburgworkingagepopulation.jpg')"
   ]
  }
 ],
 "metadata": {
  "kernelspec": {
   "display_name": "Python 3",
   "language": "python",
   "name": "python3"
  },
  "language_info": {
   "codemirror_mode": {
    "name": "ipython",
    "version": 3
   },
   "file_extension": ".py",
   "mimetype": "text/x-python",
   "name": "python",
   "nbconvert_exporter": "python",
   "pygments_lexer": "ipython3",
   "version": "3.11.0"
  }
 },
 "nbformat": 4,
 "nbformat_minor": 2
}
