{
 "cells": [
  {
   "cell_type": "code",
   "execution_count": 1,
   "metadata": {},
   "outputs": [],
   "source": [
    "import pandas as pd\n",
    "import matplotlib.pyplot as plt"
   ]
  },
  {
   "cell_type": "code",
   "execution_count": 23,
   "metadata": {},
   "outputs": [],
   "source": [
    "#Read file\n",
    "\n",
    "df_tamperekoulutusvuodet = pd.read_csv('./DatafilesFIN/tampere_koulutusvuodet.csv', encoding='latin-1')\n",
    "\n",
    "for col in df_tamperekoulutusvuodet:\n",
    "    df_tamperekoulutusvuodet[col] = df_tamperekoulutusvuodet[col].replace('\"', '', regex=True)"
   ]
  },
  {
   "cell_type": "code",
   "execution_count": 24,
   "metadata": {},
   "outputs": [
    {
     "data": {
      "text/html": [
       "<div>\n",
       "<style scoped>\n",
       "    .dataframe tbody tr th:only-of-type {\n",
       "        vertical-align: middle;\n",
       "    }\n",
       "\n",
       "    .dataframe tbody tr th {\n",
       "        vertical-align: top;\n",
       "    }\n",
       "\n",
       "    .dataframe thead th {\n",
       "        text-align: right;\n",
       "    }\n",
       "</style>\n",
       "<table border=\"1\" class=\"dataframe\">\n",
       "  <thead>\n",
       "    <tr style=\"text-align: right;\">\n",
       "      <th></th>\n",
       "      <th>Alue</th>\n",
       "      <th>Koulutusvuosia</th>\n",
       "      <th>2017</th>\n",
       "      <th>2018</th>\n",
       "      <th>2019</th>\n",
       "      <th>2020</th>\n",
       "      <th>2021</th>\n",
       "    </tr>\n",
       "  </thead>\n",
       "  <tbody>\n",
       "    <tr>\n",
       "      <th>0</th>\n",
       "      <td>Tampere</td>\n",
       "      <td>13-</td>\n",
       "      <td>56167</td>\n",
       "      <td>57261</td>\n",
       "      <td>59428</td>\n",
       "      <td>60724</td>\n",
       "      <td>61967</td>\n",
       "    </tr>\n",
       "  </tbody>\n",
       "</table>\n",
       "</div>"
      ],
      "text/plain": [
       "      Alue Koulutusvuosia   2017   2018   2019   2020   2021\n",
       "0  Tampere            13-  56167  57261  59428  60724  61967"
      ]
     },
     "execution_count": 24,
     "metadata": {},
     "output_type": "execute_result"
    }
   ],
   "source": [
    "df_tamperekoulutusvuodet.head()"
   ]
  },
  {
   "cell_type": "code",
   "execution_count": 25,
   "metadata": {},
   "outputs": [
    {
     "name": "stdout",
     "output_type": "stream",
     "text": [
      "Alue              Tampere\n",
      "Koulutusvuosia        13-\n",
      "2017                56167\n",
      "2018                57261\n",
      "2019                59428\n",
      "2020                60724\n",
      "2021                61967\n",
      "Name: 0, dtype: object\n"
     ]
    },
    {
     "name": "stderr",
     "output_type": "stream",
     "text": [
      "C:\\Users\\helia\\AppData\\Local\\Temp\\ipykernel_1428\\3366531282.py:3: SettingWithCopyWarning: \n",
      "A value is trying to be set on a copy of a slice from a DataFrame\n",
      "\n",
      "See the caveats in the documentation: https://pandas.pydata.org/pandas-docs/stable/user_guide/indexing.html#returning-a-view-versus-a-copy\n",
      "  row['2017']=row['2017'].astype(float)\n",
      "C:\\Users\\helia\\AppData\\Local\\Temp\\ipykernel_1428\\3366531282.py:4: SettingWithCopyWarning: \n",
      "A value is trying to be set on a copy of a slice from a DataFrame\n",
      "\n",
      "See the caveats in the documentation: https://pandas.pydata.org/pandas-docs/stable/user_guide/indexing.html#returning-a-view-versus-a-copy\n",
      "  row['2018']=row['2018'].astype(float)\n",
      "C:\\Users\\helia\\AppData\\Local\\Temp\\ipykernel_1428\\3366531282.py:5: SettingWithCopyWarning: \n",
      "A value is trying to be set on a copy of a slice from a DataFrame\n",
      "\n",
      "See the caveats in the documentation: https://pandas.pydata.org/pandas-docs/stable/user_guide/indexing.html#returning-a-view-versus-a-copy\n",
      "  row['2019']=row['2019'].astype(float)\n",
      "C:\\Users\\helia\\AppData\\Local\\Temp\\ipykernel_1428\\3366531282.py:6: SettingWithCopyWarning: \n",
      "A value is trying to be set on a copy of a slice from a DataFrame\n",
      "\n",
      "See the caveats in the documentation: https://pandas.pydata.org/pandas-docs/stable/user_guide/indexing.html#returning-a-view-versus-a-copy\n",
      "  row['2020']=row['2020'].astype(float)\n",
      "C:\\Users\\helia\\AppData\\Local\\Temp\\ipykernel_1428\\3366531282.py:7: SettingWithCopyWarning: \n",
      "A value is trying to be set on a copy of a slice from a DataFrame\n",
      "\n",
      "See the caveats in the documentation: https://pandas.pydata.org/pandas-docs/stable/user_guide/indexing.html#returning-a-view-versus-a-copy\n",
      "  row['2021']=row['2021'].astype(float)\n"
     ]
    }
   ],
   "source": [
    "print(df_tamperekoulutusvuodet.iloc[0])\n",
    "row = df_tamperekoulutusvuodet.iloc[0]\n",
    "row['2017']=row['2017'].astype(float)\n",
    "row['2018']=row['2018'].astype(float)\n",
    "row['2019']=row['2019'].astype(float)\n",
    "row['2020']=row['2020'].astype(float)\n",
    "row['2021']=row['2021'].astype(float)"
   ]
  },
  {
   "cell_type": "code",
   "execution_count": 26,
   "metadata": {},
   "outputs": [
    {
     "data": {
      "image/png": "[encoded data removed]",
      "text/plain": [
       "<Figure size 640x480 with 1 Axes>"
      ]
     },
     "metadata": {},
     "output_type": "display_data"
    }
   ],
   "source": [
    "row[['2017', '2018', '2019', '2020', '2021']].plot(color = 'darkviolet')\n",
    "plt.savefig('../images/tamperekoulutusvuodet.jpg')"
   ]
  },
  {
   "cell_type": "code",
   "execution_count": 2,
   "metadata": {},
   "outputs": [],
   "source": [
    "#Read file\n",
    "\n",
    "df_tamperetyöikäiset = pd.read_csv('./DatafilesFIN/tampere_työikäiset.csv', encoding='latin-1')\n",
    "\n",
    "for col in df_tamperetyöikäiset:\n",
    "    df_tamperetyöikäiset[col] = df_tamperetyöikäiset[col].replace('\"', '', regex=True)"
   ]
  },
  {
   "cell_type": "code",
   "execution_count": 3,
   "metadata": {},
   "outputs": [
    {
     "data": {
      "text/html": [
       "<div>\n",
       "<style scoped>\n",
       "    .dataframe tbody tr th:only-of-type {\n",
       "        vertical-align: middle;\n",
       "    }\n",
       "\n",
       "    .dataframe tbody tr th {\n",
       "        vertical-align: top;\n",
       "    }\n",
       "\n",
       "    .dataframe thead th {\n",
       "        text-align: right;\n",
       "    }\n",
       "</style>\n",
       "<table border=\"1\" class=\"dataframe\">\n",
       "  <thead>\n",
       "    <tr style=\"text-align: right;\">\n",
       "      <th></th>\n",
       "      <th>Alue</th>\n",
       "      <th>Ikä</th>\n",
       "      <th>Yhteensä 2017</th>\n",
       "      <th>Yhteensä 2018</th>\n",
       "      <th>Yhteensä 2019</th>\n",
       "      <th>Yhteensä 2020</th>\n",
       "      <th>Yhteensä 2021</th>\n",
       "    </tr>\n",
       "  </thead>\n",
       "  <tbody>\n",
       "    <tr>\n",
       "      <th>0</th>\n",
       "      <td>Tampere</td>\n",
       "      <td>Työikäiset yhteensä</td>\n",
       "      <td>152618</td>\n",
       "      <td>156753</td>\n",
       "      <td>158623</td>\n",
       "      <td>160669</td>\n",
       "      <td>163164</td>\n",
       "    </tr>\n",
       "  </tbody>\n",
       "</table>\n",
       "</div>"
      ],
      "text/plain": [
       "      Alue                  Ikä  Yhteensä 2017  Yhteensä 2018  Yhteensä 2019  \\\n",
       "0  Tampere  Työikäiset yhteensä         152618         156753         158623   \n",
       "\n",
       "   Yhteensä 2020  Yhteensä 2021  \n",
       "0         160669         163164  "
      ]
     },
     "execution_count": 3,
     "metadata": {},
     "output_type": "execute_result"
    }
   ],
   "source": [
    "df_tamperetyöikäiset.head()"
   ]
  },
  {
   "cell_type": "code",
   "execution_count": 4,
   "metadata": {},
   "outputs": [
    {
     "name": "stdout",
     "output_type": "stream",
     "text": [
      "Alue                         Tampere\n",
      "Ikä              Työikäiset yhteensä\n",
      "Yhteensä 2017                 152618\n",
      "Yhteensä 2018                 156753\n",
      "Yhteensä 2019                 158623\n",
      "Yhteensä 2020                 160669\n",
      "Yhteensä 2021                 163164\n",
      "Name: 0, dtype: object\n"
     ]
    },
    {
     "name": "stderr",
     "output_type": "stream",
     "text": [
      "C:\\Users\\helia\\AppData\\Local\\Temp\\ipykernel_1428\\2655888295.py:3: SettingWithCopyWarning: \n",
      "A value is trying to be set on a copy of a slice from a DataFrame\n",
      "\n",
      "See the caveats in the documentation: https://pandas.pydata.org/pandas-docs/stable/user_guide/indexing.html#returning-a-view-versus-a-copy\n",
      "  row['Yhteensä 2017']=row['Yhteensä 2017'].astype(float)\n",
      "C:\\Users\\helia\\AppData\\Local\\Temp\\ipykernel_1428\\2655888295.py:4: SettingWithCopyWarning: \n",
      "A value is trying to be set on a copy of a slice from a DataFrame\n",
      "\n",
      "See the caveats in the documentation: https://pandas.pydata.org/pandas-docs/stable/user_guide/indexing.html#returning-a-view-versus-a-copy\n",
      "  row['Yhteensä 2018']=row['Yhteensä 2018'].astype(float)\n",
      "C:\\Users\\helia\\AppData\\Local\\Temp\\ipykernel_1428\\2655888295.py:5: SettingWithCopyWarning: \n",
      "A value is trying to be set on a copy of a slice from a DataFrame\n",
      "\n",
      "See the caveats in the documentation: https://pandas.pydata.org/pandas-docs/stable/user_guide/indexing.html#returning-a-view-versus-a-copy\n",
      "  row['Yhteensä 2019']=row['Yhteensä 2019'].astype(float)\n",
      "C:\\Users\\helia\\AppData\\Local\\Temp\\ipykernel_1428\\2655888295.py:6: SettingWithCopyWarning: \n",
      "A value is trying to be set on a copy of a slice from a DataFrame\n",
      "\n",
      "See the caveats in the documentation: https://pandas.pydata.org/pandas-docs/stable/user_guide/indexing.html#returning-a-view-versus-a-copy\n",
      "  row['Yhteensä 2020']=row['Yhteensä 2020'].astype(float)\n",
      "C:\\Users\\helia\\AppData\\Local\\Temp\\ipykernel_1428\\2655888295.py:7: SettingWithCopyWarning: \n",
      "A value is trying to be set on a copy of a slice from a DataFrame\n",
      "\n",
      "See the caveats in the documentation: https://pandas.pydata.org/pandas-docs/stable/user_guide/indexing.html#returning-a-view-versus-a-copy\n",
      "  row['Yhteensä 2021']=row['Yhteensä 2021'].astype(float)\n"
     ]
    }
   ],
   "source": [
    "print(df_tamperetyöikäiset.iloc[0])\n",
    "row = df_tamperetyöikäiset.iloc[0]\n",
    "row['Yhteensä 2017']=row['Yhteensä 2017'].astype(float)\n",
    "row['Yhteensä 2018']=row['Yhteensä 2018'].astype(float)\n",
    "row['Yhteensä 2019']=row['Yhteensä 2019'].astype(float)\n",
    "row['Yhteensä 2020']=row['Yhteensä 2020'].astype(float)\n",
    "row['Yhteensä 2021']=row['Yhteensä 2021'].astype(float)"
   ]
  },
  {
   "cell_type": "code",
   "execution_count": 22,
   "metadata": {},
   "outputs": [
    {
     "data": {
      "image/png": "[encoded data removed]",
      "text/plain": [
       "<Figure size 640x480 with 1 Axes>"
      ]
     },
     "metadata": {},
     "output_type": "display_data"
    }
   ],
   "source": [
    "row[['Yhteensä 2017', 'Yhteensä 2018', 'Yhteensä 2019', 'Yhteensä 2020', 'Yhteensä 2021']].plot.barh(color = 'darkviolet')\n",
    "plt.xlim(150000, 164000)\n",
    "plt.savefig('../images/tampereentyöikäiset.jpg')"
   ]
  },
  {
   "cell_type": "code",
   "execution_count": 2,
   "metadata": {},
   "outputs": [],
   "source": [
    "#Read file\n",
    "\n",
    "df_tamperemigration = pd.read_csv('./DatafilesFIN/tampere_migration.csv', encoding='latin-1')\n",
    "\n",
    "for col in df_tamperemigration:\n",
    "    df_tamperemigration[col] = df_tamperemigration[col].replace('\"', '', regex=True)"
   ]
  },
  {
   "cell_type": "code",
   "execution_count": 3,
   "metadata": {},
   "outputs": [
    {
     "data": {
      "text/html": [
       "<div>\n",
       "<style scoped>\n",
       "    .dataframe tbody tr th:only-of-type {\n",
       "        vertical-align: middle;\n",
       "    }\n",
       "\n",
       "    .dataframe tbody tr th {\n",
       "        vertical-align: top;\n",
       "    }\n",
       "\n",
       "    .dataframe thead th {\n",
       "        text-align: right;\n",
       "    }\n",
       "</style>\n",
       "<table border=\"1\" class=\"dataframe\">\n",
       "  <thead>\n",
       "    <tr style=\"text-align: right;\">\n",
       "      <th></th>\n",
       "      <th>Alue</th>\n",
       "      <th>Väestönmuutos</th>\n",
       "      <th>2018</th>\n",
       "      <th>2019</th>\n",
       "      <th>2020</th>\n",
       "    </tr>\n",
       "  </thead>\n",
       "  <tbody>\n",
       "    <tr>\n",
       "      <th>0</th>\n",
       "      <td>Tampere</td>\n",
       "      <td>Tulomuutto yhteensä</td>\n",
       "      <td>18433</td>\n",
       "      <td>18314</td>\n",
       "      <td>18387</td>\n",
       "    </tr>\n",
       "  </tbody>\n",
       "</table>\n",
       "</div>"
      ],
      "text/plain": [
       "      Alue        Väestönmuutos   2018   2019   2020\n",
       "0  Tampere  Tulomuutto yhteensä  18433  18314  18387"
      ]
     },
     "execution_count": 3,
     "metadata": {},
     "output_type": "execute_result"
    }
   ],
   "source": [
    "df_tamperemigration.head()"
   ]
  },
  {
   "cell_type": "code",
   "execution_count": 4,
   "metadata": {},
   "outputs": [
    {
     "name": "stdout",
     "output_type": "stream",
     "text": [
      "Alue                         Tampere\n",
      "Väestönmuutos    Tulomuutto yhteensä\n",
      "2018                           18433\n",
      "2019                           18314\n",
      "2020                           18387\n",
      "Name: 0, dtype: object\n"
     ]
    },
    {
     "name": "stderr",
     "output_type": "stream",
     "text": [
      "C:\\Users\\helia\\AppData\\Local\\Temp\\ipykernel_25480\\2951858259.py:3: SettingWithCopyWarning: \n",
      "A value is trying to be set on a copy of a slice from a DataFrame\n",
      "\n",
      "See the caveats in the documentation: https://pandas.pydata.org/pandas-docs/stable/user_guide/indexing.html#returning-a-view-versus-a-copy\n",
      "  row['2018']=row['2018'].astype(float)\n",
      "C:\\Users\\helia\\AppData\\Local\\Temp\\ipykernel_25480\\2951858259.py:4: SettingWithCopyWarning: \n",
      "A value is trying to be set on a copy of a slice from a DataFrame\n",
      "\n",
      "See the caveats in the documentation: https://pandas.pydata.org/pandas-docs/stable/user_guide/indexing.html#returning-a-view-versus-a-copy\n",
      "  row['2019']=row['2019'].astype(float)\n",
      "C:\\Users\\helia\\AppData\\Local\\Temp\\ipykernel_25480\\2951858259.py:5: SettingWithCopyWarning: \n",
      "A value is trying to be set on a copy of a slice from a DataFrame\n",
      "\n",
      "See the caveats in the documentation: https://pandas.pydata.org/pandas-docs/stable/user_guide/indexing.html#returning-a-view-versus-a-copy\n",
      "  row['2020']=row['2020'].astype(float)\n"
     ]
    }
   ],
   "source": [
    "print(df_tamperemigration.iloc[0])\n",
    "row = df_tamperemigration.iloc[0]\n",
    "row['2018']=row['2018'].astype(float)\n",
    "row['2019']=row['2019'].astype(float)\n",
    "row['2020']=row['2020'].astype(float)"
   ]
  },
  {
   "cell_type": "code",
   "execution_count": 11,
   "metadata": {},
   "outputs": [
    {
     "data": {
      "image/png": "[encoded data removed]",
      "text/plain": [
       "<Figure size 640x480 with 1 Axes>"
      ]
     },
     "metadata": {},
     "output_type": "display_data"
    }
   ],
   "source": [
    "row[['2018', '2019', '2020']].plot.bar(color = 'darkviolet')\n",
    "plt.ylim(18200, 18450)\n",
    "plt.savefig('../images/tamperemigration.jpg')"
   ]
  },
  {
   "cell_type": "code",
   "execution_count": 12,
   "metadata": {},
   "outputs": [],
   "source": [
    "#Read file\n",
    "\n",
    "df_tampereemigration = pd.read_csv('./DatafilesFIN/tampere_emigration.csv', encoding='latin-1')\n",
    "\n",
    "for col in df_tampereemigration:\n",
    "    df_tampereemigration[col] = df_tampereemigration[col].replace('\"', '', regex=True)"
   ]
  },
  {
   "cell_type": "code",
   "execution_count": 13,
   "metadata": {},
   "outputs": [
    {
     "data": {
      "text/html": [
       "<div>\n",
       "<style scoped>\n",
       "    .dataframe tbody tr th:only-of-type {\n",
       "        vertical-align: middle;\n",
       "    }\n",
       "\n",
       "    .dataframe tbody tr th {\n",
       "        vertical-align: top;\n",
       "    }\n",
       "\n",
       "    .dataframe thead th {\n",
       "        text-align: right;\n",
       "    }\n",
       "</style>\n",
       "<table border=\"1\" class=\"dataframe\">\n",
       "  <thead>\n",
       "    <tr style=\"text-align: right;\">\n",
       "      <th></th>\n",
       "      <th>Alue</th>\n",
       "      <th>Väestönmuutos</th>\n",
       "      <th>2018</th>\n",
       "      <th>2019</th>\n",
       "      <th>2020</th>\n",
       "    </tr>\n",
       "  </thead>\n",
       "  <tbody>\n",
       "    <tr>\n",
       "      <th>0</th>\n",
       "      <td>Tampere</td>\n",
       "      <td>Lähtömuutto yhteensä</td>\n",
       "      <td>15256</td>\n",
       "      <td>15595</td>\n",
       "      <td>15885</td>\n",
       "    </tr>\n",
       "  </tbody>\n",
       "</table>\n",
       "</div>"
      ],
      "text/plain": [
       "      Alue         Väestönmuutos   2018   2019   2020\n",
       "0  Tampere  Lähtömuutto yhteensä  15256  15595  15885"
      ]
     },
     "execution_count": 13,
     "metadata": {},
     "output_type": "execute_result"
    }
   ],
   "source": [
    "df_tampereemigration.head()"
   ]
  },
  {
   "cell_type": "code",
   "execution_count": 16,
   "metadata": {},
   "outputs": [
    {
     "name": "stdout",
     "output_type": "stream",
     "text": [
      "Alue                          Tampere\n",
      "Väestönmuutos    Lähtömuutto yhteensä\n",
      "2018                            15256\n",
      "2019                            15595\n",
      "2020                            15885\n",
      "Name: 0, dtype: object\n"
     ]
    },
    {
     "name": "stderr",
     "output_type": "stream",
     "text": [
      "C:\\Users\\helia\\AppData\\Local\\Temp\\ipykernel_25480\\2856887797.py:3: SettingWithCopyWarning: \n",
      "A value is trying to be set on a copy of a slice from a DataFrame\n",
      "\n",
      "See the caveats in the documentation: https://pandas.pydata.org/pandas-docs/stable/user_guide/indexing.html#returning-a-view-versus-a-copy\n",
      "  row['2018']=row['2018'].astype(float)\n",
      "C:\\Users\\helia\\AppData\\Local\\Temp\\ipykernel_25480\\2856887797.py:4: SettingWithCopyWarning: \n",
      "A value is trying to be set on a copy of a slice from a DataFrame\n",
      "\n",
      "See the caveats in the documentation: https://pandas.pydata.org/pandas-docs/stable/user_guide/indexing.html#returning-a-view-versus-a-copy\n",
      "  row['2019']=row['2019'].astype(float)\n",
      "C:\\Users\\helia\\AppData\\Local\\Temp\\ipykernel_25480\\2856887797.py:5: SettingWithCopyWarning: \n",
      "A value is trying to be set on a copy of a slice from a DataFrame\n",
      "\n",
      "See the caveats in the documentation: https://pandas.pydata.org/pandas-docs/stable/user_guide/indexing.html#returning-a-view-versus-a-copy\n",
      "  row['2020']=row['2020'].astype(float)\n"
     ]
    }
   ],
   "source": [
    "print(df_tampereemigration.iloc[0])\n",
    "row = df_tampereemigration.iloc[0]\n",
    "row['2018']=row['2018'].astype(float)\n",
    "row['2019']=row['2019'].astype(float)\n",
    "row['2020']=row['2020'].astype(float)"
   ]
  },
  {
   "cell_type": "code",
   "execution_count": 23,
   "metadata": {},
   "outputs": [
    {
     "data": {
      "image/png": "[encoded data removed]",
      "text/plain": [
       "<Figure size 640x480 with 1 Axes>"
      ]
     },
     "metadata": {},
     "output_type": "display_data"
    }
   ],
   "source": [
    "row[['2018', '2019', '2020']].plot.bar(color = 'darkviolet')\n",
    "plt.ylim(14800, 16000)\n",
    "plt.savefig('../images/tampereemigration.jpg')"
   ]
  },
  {
   "cell_type": "code",
   "execution_count": 24,
   "metadata": {},
   "outputs": [],
   "source": [
    "#Read file\n",
    "\n",
    "df_tampereworkforce = pd.read_csv('./DatafilesFIN/tampere_workforce.csv', encoding='latin-1')\n",
    "\n",
    "for col in df_tampereworkforce:\n",
    "    df_tampereworkforce[col] = df_tampereworkforce[col].replace('\"', '', regex=True)"
   ]
  },
  {
   "cell_type": "code",
   "execution_count": 25,
   "metadata": {},
   "outputs": [
    {
     "data": {
      "text/html": [
       "<div>\n",
       "<style scoped>\n",
       "    .dataframe tbody tr th:only-of-type {\n",
       "        vertical-align: middle;\n",
       "    }\n",
       "\n",
       "    .dataframe tbody tr th {\n",
       "        vertical-align: top;\n",
       "    }\n",
       "\n",
       "    .dataframe thead th {\n",
       "        text-align: right;\n",
       "    }\n",
       "</style>\n",
       "<table border=\"1\" class=\"dataframe\">\n",
       "  <thead>\n",
       "    <tr style=\"text-align: right;\">\n",
       "      <th></th>\n",
       "      <th>Alue</th>\n",
       "      <th>Väestönmuutos</th>\n",
       "      <th>2018</th>\n",
       "      <th>2019</th>\n",
       "      <th>2020</th>\n",
       "    </tr>\n",
       "  </thead>\n",
       "  <tbody>\n",
       "    <tr>\n",
       "      <th>0</th>\n",
       "      <td>Tampere</td>\n",
       "      <td>Tulomuutto yhteensä</td>\n",
       "      <td>18433</td>\n",
       "      <td>18314</td>\n",
       "      <td>18387</td>\n",
       "    </tr>\n",
       "  </tbody>\n",
       "</table>\n",
       "</div>"
      ],
      "text/plain": [
       "      Alue        Väestönmuutos   2018   2019   2020\n",
       "0  Tampere  Tulomuutto yhteensä  18433  18314  18387"
      ]
     },
     "execution_count": 25,
     "metadata": {},
     "output_type": "execute_result"
    }
   ],
   "source": [
    "df_tampereworkforce.head()"
   ]
  },
  {
   "cell_type": "code",
   "execution_count": 26,
   "metadata": {},
   "outputs": [
    {
     "name": "stdout",
     "output_type": "stream",
     "text": [
      "Alue                         Tampere\n",
      "Väestönmuutos    Tulomuutto yhteensä\n",
      "2018                           18433\n",
      "2019                           18314\n",
      "2020                           18387\n",
      "Name: 0, dtype: object\n"
     ]
    },
    {
     "name": "stderr",
     "output_type": "stream",
     "text": [
      "C:\\Users\\helia\\AppData\\Local\\Temp\\ipykernel_25480\\2395992301.py:3: SettingWithCopyWarning: \n",
      "A value is trying to be set on a copy of a slice from a DataFrame\n",
      "\n",
      "See the caveats in the documentation: https://pandas.pydata.org/pandas-docs/stable/user_guide/indexing.html#returning-a-view-versus-a-copy\n",
      "  row['2018']=row['2018'].astype(float)\n",
      "C:\\Users\\helia\\AppData\\Local\\Temp\\ipykernel_25480\\2395992301.py:4: SettingWithCopyWarning: \n",
      "A value is trying to be set on a copy of a slice from a DataFrame\n",
      "\n",
      "See the caveats in the documentation: https://pandas.pydata.org/pandas-docs/stable/user_guide/indexing.html#returning-a-view-versus-a-copy\n",
      "  row['2019']=row['2019'].astype(float)\n",
      "C:\\Users\\helia\\AppData\\Local\\Temp\\ipykernel_25480\\2395992301.py:5: SettingWithCopyWarning: \n",
      "A value is trying to be set on a copy of a slice from a DataFrame\n",
      "\n",
      "See the caveats in the documentation: https://pandas.pydata.org/pandas-docs/stable/user_guide/indexing.html#returning-a-view-versus-a-copy\n",
      "  row['2020']=row['2020'].astype(float)\n"
     ]
    }
   ],
   "source": [
    "print(df_tampereworkforce.iloc[0])\n",
    "row = df_tampereworkforce.iloc[0]\n",
    "row['2018']=row['2018'].astype(float)\n",
    "row['2019']=row['2019'].astype(float)\n",
    "row['2020']=row['2020'].astype(float)"
   ]
  },
  {
   "cell_type": "code",
   "execution_count": 32,
   "metadata": {},
   "outputs": [
    {
     "data": {
      "image/png": "[encoded data removed]",
      "text/plain": [
       "<Figure size 640x480 with 1 Axes>"
      ]
     },
     "metadata": {},
     "output_type": "display_data"
    }
   ],
   "source": [
    "row[['2018', '2019', '2020']].plot.bar(color = 'darkviolet')\n",
    "plt.ylim(18200, 18500)\n",
    "plt.savefig('../images/tampereworkforce.jpg')"
   ]
  }
 ],
 "metadata": {
  "kernelspec": {
   "display_name": "Python 3",
   "language": "python",
   "name": "python3"
  },
  "language_info": {
   "codemirror_mode": {
    "name": "ipython",
    "version": 3
   },
   "file_extension": ".py",
   "mimetype": "text/x-python",
   "name": "python",
   "nbconvert_exporter": "python",
   "pygments_lexer": "ipython3",
   "version": "3.11.0"
  }
 },
 "nbformat": 4,
 "nbformat_minor": 2
}
