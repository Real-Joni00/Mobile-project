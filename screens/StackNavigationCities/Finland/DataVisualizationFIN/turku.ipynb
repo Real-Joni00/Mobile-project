{
 "cells": [
  {
   "cell_type": "code",
   "execution_count": 1,
   "metadata": {},
   "outputs": [],
   "source": [
    "import pandas as pd\n",
    "import matplotlib.pyplot as plt"
   ]
  },
  {
   "cell_type": "code",
   "execution_count": 2,
   "metadata": {},
   "outputs": [],
   "source": [
    "#Read file\n",
    "\n",
    "df_turkukoulutusvuodet = pd.read_csv('./DatafilesFIN/turku_koulutusvuodet.csv', encoding='latin-1')\n",
    "\n",
    "for col in df_turkukoulutusvuodet:\n",
    "    df_turkukoulutusvuodet[col] = df_turkukoulutusvuodet[col].replace('\"', '', regex=True)"
   ]
  },
  {
   "cell_type": "code",
   "execution_count": 4,
   "metadata": {},
   "outputs": [
    {
     "data": {
      "text/html": [
       "<div>\n",
       "<style scoped>\n",
       "    .dataframe tbody tr th:only-of-type {\n",
       "        vertical-align: middle;\n",
       "    }\n",
       "\n",
       "    .dataframe tbody tr th {\n",
       "        vertical-align: top;\n",
       "    }\n",
       "\n",
       "    .dataframe thead th {\n",
       "        text-align: right;\n",
       "    }\n",
       "</style>\n",
       "<table border=\"1\" class=\"dataframe\">\n",
       "  <thead>\n",
       "    <tr style=\"text-align: right;\">\n",
       "      <th></th>\n",
       "      <th>Alue</th>\n",
       "      <th>Koulutusvuosia</th>\n",
       "      <th>2017</th>\n",
       "      <th>2018</th>\n",
       "      <th>2019</th>\n",
       "      <th>2020</th>\n",
       "      <th>2021</th>\n",
       "    </tr>\n",
       "  </thead>\n",
       "  <tbody>\n",
       "    <tr>\n",
       "      <th>0</th>\n",
       "      <td>Turku</td>\n",
       "      <td>13-</td>\n",
       "      <td>41518</td>\n",
       "      <td>42459</td>\n",
       "      <td>43962</td>\n",
       "      <td>44669</td>\n",
       "      <td>45197</td>\n",
       "    </tr>\n",
       "  </tbody>\n",
       "</table>\n",
       "</div>"
      ],
      "text/plain": [
       "    Alue Koulutusvuosia   2017   2018   2019   2020   2021\n",
       "0  Turku            13-  41518  42459  43962  44669  45197"
      ]
     },
     "execution_count": 4,
     "metadata": {},
     "output_type": "execute_result"
    }
   ],
   "source": [
    "df_turkukoulutusvuodet.head()"
   ]
  },
  {
   "cell_type": "code",
   "execution_count": 5,
   "metadata": {},
   "outputs": [
    {
     "name": "stdout",
     "output_type": "stream",
     "text": [
      "Alue              Turku\n",
      "Koulutusvuosia      13-\n",
      "2017              41518\n",
      "2018              42459\n",
      "2019              43962\n",
      "2020              44669\n",
      "2021              45197\n",
      "Name: 0, dtype: object\n"
     ]
    },
    {
     "name": "stderr",
     "output_type": "stream",
     "text": [
      "C:\\Users\\helia\\AppData\\Local\\Temp\\ipykernel_8388\\2994290885.py:3: SettingWithCopyWarning: \n",
      "A value is trying to be set on a copy of a slice from a DataFrame\n",
      "\n",
      "See the caveats in the documentation: https://pandas.pydata.org/pandas-docs/stable/user_guide/indexing.html#returning-a-view-versus-a-copy\n",
      "  row['2017']=row['2017'].astype(float)\n",
      "C:\\Users\\helia\\AppData\\Local\\Temp\\ipykernel_8388\\2994290885.py:4: SettingWithCopyWarning: \n",
      "A value is trying to be set on a copy of a slice from a DataFrame\n",
      "\n",
      "See the caveats in the documentation: https://pandas.pydata.org/pandas-docs/stable/user_guide/indexing.html#returning-a-view-versus-a-copy\n",
      "  row['2018']=row['2018'].astype(float)\n",
      "C:\\Users\\helia\\AppData\\Local\\Temp\\ipykernel_8388\\2994290885.py:5: SettingWithCopyWarning: \n",
      "A value is trying to be set on a copy of a slice from a DataFrame\n",
      "\n",
      "See the caveats in the documentation: https://pandas.pydata.org/pandas-docs/stable/user_guide/indexing.html#returning-a-view-versus-a-copy\n",
      "  row['2019']=row['2019'].astype(float)\n",
      "C:\\Users\\helia\\AppData\\Local\\Temp\\ipykernel_8388\\2994290885.py:6: SettingWithCopyWarning: \n",
      "A value is trying to be set on a copy of a slice from a DataFrame\n",
      "\n",
      "See the caveats in the documentation: https://pandas.pydata.org/pandas-docs/stable/user_guide/indexing.html#returning-a-view-versus-a-copy\n",
      "  row['2020']=row['2020'].astype(float)\n",
      "C:\\Users\\helia\\AppData\\Local\\Temp\\ipykernel_8388\\2994290885.py:7: SettingWithCopyWarning: \n",
      "A value is trying to be set on a copy of a slice from a DataFrame\n",
      "\n",
      "See the caveats in the documentation: https://pandas.pydata.org/pandas-docs/stable/user_guide/indexing.html#returning-a-view-versus-a-copy\n",
      "  row['2021']=row['2021'].astype(float)\n"
     ]
    }
   ],
   "source": [
    "print(df_turkukoulutusvuodet.iloc[0])\n",
    "row = df_turkukoulutusvuodet.iloc[0]\n",
    "row['2017']=row['2017'].astype(float)\n",
    "row['2018']=row['2018'].astype(float)\n",
    "row['2019']=row['2019'].astype(float)\n",
    "row['2020']=row['2020'].astype(float)\n",
    "row['2021']=row['2021'].astype(float)"
   ]
  },
  {
   "cell_type": "code",
   "execution_count": 7,
   "metadata": {},
   "outputs": [
    {
     "data": {
      "image/png": "[encoded data removed]",
      "text/plain": [
       "<Figure size 640x480 with 1 Axes>"
      ]
     },
     "metadata": {},
     "output_type": "display_data"
    }
   ],
   "source": [
    "row[['2017', '2018', '2019', '2020', '2021']].plot()\n",
    "plt.savefig('../images/turkukoulutusvuodet.jpg')"
   ]
  }
 ],
 "metadata": {
  "kernelspec": {
   "display_name": "Python 3",
   "language": "python",
   "name": "python3"
  },
  "language_info": {
   "codemirror_mode": {
    "name": "ipython",
    "version": 3
   },
   "file_extension": ".py",
   "mimetype": "text/x-python",
   "name": "python",
   "nbconvert_exporter": "python",
   "pygments_lexer": "ipython3",
   "version": "3.11.0"
  }
 },
 "nbformat": 4,
 "nbformat_minor": 2
}
